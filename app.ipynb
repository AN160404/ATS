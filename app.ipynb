{
 "cells": [
  {
   "cell_type": "code",
   "execution_count": 1,
   "metadata": {},
   "outputs": [],
   "source": [
    "from dotenv import load_dotenv\n",
    "load_dotenv()\n",
    "import os\n",
    "api_key=os.getenv('api_key')"
   ]
  },
  {
   "cell_type": "markdown",
   "metadata": {},
   "source": [
    "Part 1 : Reading the Data from Docx or PDF"
   ]
  },
  {
   "cell_type": "code",
   "execution_count": 3,
   "metadata": {},
   "outputs": [],
   "source": [
    "from docx import Document\n",
    "def docx_read(file_path):\n",
    "    text1=[]\n",
    "    doc=Document(file_path)\n",
    "    for para in doc.paragraphs:\n",
    "        text1.append(para.text)\n",
    "    return \"\\n\".join(text1)"
   ]
  },
  {
   "cell_type": "code",
   "execution_count": 4,
   "metadata": {},
   "outputs": [],
   "source": [
    "from PyPDF2 import PdfReader\n",
    "def pdf_read(file_path):\n",
    "    text2=\"\"\n",
    "    pdf=PdfReader(file_path)\n",
    "    for page in pdf.pages:\n",
    "        text2 += page.extract_text()\n",
    "    return text2"
   ]
  },
  {
   "cell_type": "code",
   "execution_count": 5,
   "metadata": {},
   "outputs": [],
   "source": [
    "def resume_parse(file_path):\n",
    "    if file_path.endswith(\".docx\"):\n",
    "        return docx_read(file_path)\n",
    "    elif file_path.endswith(\".pdf\"):\n",
    "        return pdf_read(file_path)\n",
    "    else:\n",
    "        return ValueError(\"Unsupported file format. Upload either a PDF or DOCX file.\")"
   ]
  },
  {
   "cell_type": "markdown",
   "metadata": {},
   "source": [
    "Part 2: Uploading the file\n"
   ]
  },
  {
   "cell_type": "code",
   "execution_count": 6,
   "metadata": {},
   "outputs": [
    {
     "name": "stderr",
     "output_type": "stream",
     "text": [
      "2024-12-10 21:12:55.251 \n",
      "  \u001b[33m\u001b[1mWarning:\u001b[0m to view this Streamlit app on a browser, run it with the following\n",
      "  command:\n",
      "\n",
      "    streamlit run C:\\Users\\Admin\\AppData\\Roaming\\Python\\Python312\\site-packages\\ipykernel_launcher.py [ARGUMENTS]\n"
     ]
    }
   ],
   "source": [
    "import streamlit as st\n",
    "uploaded_file = st.file_uploader(\"Upload a PDF or DOC file\", type=[\"pdf\", \"docx\"])\n"
   ]
  },
  {
   "cell_type": "code",
   "execution_count": 7,
   "metadata": {},
   "outputs": [
    {
     "ename": "AttributeError",
     "evalue": "'NoneType' object has no attribute 'endswith'",
     "output_type": "error",
     "traceback": [
      "\u001b[1;31m---------------------------------------------------------------------------\u001b[0m",
      "\u001b[1;31mAttributeError\u001b[0m                            Traceback (most recent call last)",
      "Cell \u001b[1;32mIn[7], line 1\u001b[0m\n\u001b[1;32m----> 1\u001b[0m resume_text\u001b[38;5;241m=\u001b[39m\u001b[43mresume_parse\u001b[49m\u001b[43m(\u001b[49m\u001b[43muploaded_file\u001b[49m\u001b[43m)\u001b[49m\n",
      "Cell \u001b[1;32mIn[5], line 2\u001b[0m, in \u001b[0;36mresume_parse\u001b[1;34m(file_path)\u001b[0m\n\u001b[0;32m      1\u001b[0m \u001b[38;5;28;01mdef\u001b[39;00m \u001b[38;5;21mresume_parse\u001b[39m(file_path):\n\u001b[1;32m----> 2\u001b[0m     \u001b[38;5;28;01mif\u001b[39;00m \u001b[43mfile_path\u001b[49m\u001b[38;5;241;43m.\u001b[39;49m\u001b[43mendswith\u001b[49m(\u001b[38;5;124m\"\u001b[39m\u001b[38;5;124m.docx\u001b[39m\u001b[38;5;124m\"\u001b[39m):\n\u001b[0;32m      3\u001b[0m         \u001b[38;5;28;01mreturn\u001b[39;00m docx_read(file_path)\n\u001b[0;32m      4\u001b[0m     \u001b[38;5;28;01melif\u001b[39;00m file_path\u001b[38;5;241m.\u001b[39mendswith(\u001b[38;5;124m\"\u001b[39m\u001b[38;5;124m.pdf\u001b[39m\u001b[38;5;124m\"\u001b[39m):\n",
      "\u001b[1;31mAttributeError\u001b[0m: 'NoneType' object has no attribute 'endswith'"
     ]
    }
   ],
   "source": [
    "resume_text=resume_parse(uploaded_file)"
   ]
  },
  {
   "cell_type": "code",
   "execution_count": 7,
   "metadata": {},
   "outputs": [],
   "source": [
    "resume_chunks=[]\n",
    "for chunk in resume_text.split(\"\\n\"):\n",
    "    if chunk.strip():\n",
    "        resume_chunks.append(chunk)"
   ]
  },
  {
   "cell_type": "markdown",
   "metadata": {},
   "source": [
    "Part 3: Embeddings and Storage"
   ]
  },
  {
   "cell_type": "code",
   "execution_count": 9,
   "metadata": {},
   "outputs": [],
   "source": [
    "from langchain_google_genai import GoogleGenerativeAIEmbeddings\n",
    "\n",
    "embeddings=GoogleGenerativeAIEmbeddings(google_api_key=api_key,model=\"models/embedding-001\")\n",
    "vector=embeddings.embed_documents(resume_chunks)"
   ]
  },
  {
   "cell_type": "code",
   "execution_count": null,
   "metadata": {},
   "outputs": [],
   "source": [
    "import faiss\n",
    "from langchain_community.vectorstores import FAISS\n",
    "from langchain_community.docstore.in_memory import InMemoryDocstore\n",
    "\n",
    "index = faiss.IndexFlatL2(len(vector[0]))\n",
    "\n",
    "vector_store = FAISS(\n",
    "    embedding_function=embeddings,\n",
    "    docstore=InMemoryDocstore(),\n",
    "    index_to_docstore_id={},\n",
    "    index=index\n",
    ")\n",
    "\n",
    "vector_store.add_texts(resume_chunks)"
   ]
  },
  {
   "cell_type": "markdown",
   "metadata": {},
   "source": [
    "Part 4: Retrieval and Query Input"
   ]
  },
  {
   "cell_type": "code",
   "execution_count": 11,
   "metadata": {},
   "outputs": [],
   "source": [
    "from langchain.prompts import PromptTemplate\n",
    "from langchain_google_genai import GoogleGenerativeAI\n",
    "from langchain_core.runnables import RunnablePassthrough\n",
    "\n",
    "llm = GoogleGenerativeAI(google_api_key=api_key,model=\"gemini-1.5-flash\")\n",
    "\n",
    "\n",
    "prompt_template = PromptTemplate(\n",
    "    template=\"You are an ATS system. Based on the context: {context}, answer the question: {question}\",\n",
    "    input_variables=[\"context\", \"question\"]\n",
    "    \n",
    ")\n",
    "\n",
    "retriever = vector_store.as_retriever()\n",
    "\n",
    "qa_chain = (\n",
    "    {\"context\": retriever, \"question\": RunnablePassthrough()} #allows user's query\n",
    "    | prompt_template\n",
    "    | llm\n",
    ")\n"
   ]
  },
  {
   "cell_type": "markdown",
   "metadata": {},
   "source": [
    "Part 5: Taking Input and Generating Response"
   ]
  },
  {
   "cell_type": "code",
   "execution_count": 13,
   "metadata": {},
   "outputs": [
    {
     "name": "stdout",
     "output_type": "stream",
     "text": [
      "Based solely on the provided snippets, I would give a moderate ATS score.  While the snippets demonstrate quantitative achievements (CGPA, chatbot accuracy, RAG system accuracy), they lack crucial context.  The ATS would likely struggle to fully assess the resume because:\n",
      "\n",
      "* **Missing Job Titles/Roles:**  There's no indication of what roles these accomplishments relate to.  An ATS needs to match skills and experiences to specific job requirements, and without job titles, this matching is severely hampered.\n",
      "* **Lack of Keywords:**  While numbers are present, relevant keywords related to specific job functions (e.g., \"Python,\" \"Natural Language Processing,\" \"Machine Learning\") are absent.  This limits the ATS's ability to identify relevant skills.\n",
      "* **Incomplete Picture:** Four snippets are insufficient to provide a comprehensive view of the candidate's skills and experience.  A full resume is needed for accurate scoring.\n",
      "\n",
      "\n",
      "Therefore, a preliminary ATS score would be somewhere in the **50-70% range**.  This score reflects the presence of quantifiable achievements but highlights the significant missing information necessary for a higher score.  A complete resume with relevant keywords and clearly defined roles would dramatically improve the score.\n",
      "\n"
     ]
    }
   ],
   "source": [
    "query=input(\"Enter Query: \")\n",
    "\n",
    "response=qa_chain.invoke(query)\n",
    "print(response)"
   ]
  }
 ],
 "metadata": {
  "kernelspec": {
   "display_name": "Python 3",
   "language": "python",
   "name": "python3"
  },
  "language_info": {
   "codemirror_mode": {
    "name": "ipython",
    "version": 3
   },
   "file_extension": ".py",
   "mimetype": "text/x-python",
   "name": "python",
   "nbconvert_exporter": "python",
   "pygments_lexer": "ipython3",
   "version": "3.12.4"
  }
 },
 "nbformat": 4,
 "nbformat_minor": 2
}
